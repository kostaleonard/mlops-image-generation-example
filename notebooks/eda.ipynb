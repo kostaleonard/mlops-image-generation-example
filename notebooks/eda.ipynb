{
 "cells": [
  {
   "cell_type": "markdown",
   "id": "17f8a65d",
   "metadata": {},
   "source": [
    "# Exploratory Data Analysis\n",
    "\n",
    "This notebook explores published datasets, which use random image augmentation to supplement the original images. The purpose of this notebook is to improve developer understanding of the dataset, and to identify ways in which the dataset could be improved."
   ]
  },
  {
   "cell_type": "markdown",
   "id": "4ee25132",
   "metadata": {},
   "source": [
    "## Change working directory to project root"
   ]
  },
  {
   "cell_type": "code",
   "execution_count": null,
   "id": "8558fe2f",
   "metadata": {},
   "outputs": [],
   "source": [
    "import os\n",
    "ROOT_DIRECTORIES = {'imagegen', 'tests'}\n",
    "if set(os.listdir('.')).intersection(ROOT_DIRECTORIES) != ROOT_DIRECTORIES:\n",
    "    os.chdir('..')"
   ]
  },
  {
   "cell_type": "markdown",
   "id": "b2c3999e",
   "metadata": {},
   "source": [
    "## Imports and constants"
   ]
  },
  {
   "cell_type": "code",
   "execution_count": null,
   "id": "6dea4f12",
   "metadata": {},
   "outputs": [],
   "source": [
    "import matplotlib.pyplot as plt\n",
    "from mlops.errors import PublicationPathAlreadyExistsError\n",
    "from mlops.dataset.versioned_dataset import VersionedDataset\n",
    "from imagegen.publish_dataset import publish_dataset, \\\n",
    "    DATASET_PUBLICATION_PATH_LOCAL, DATASET_VERSION\n",
    "from imagegen.gan import GAN"
   ]
  },
  {
   "cell_type": "markdown",
   "id": "879283cf",
   "metadata": {},
   "source": [
    "## Publish versioned dataset"
   ]
  },
  {
   "cell_type": "code",
   "execution_count": null,
   "id": "a51e6409",
   "metadata": {},
   "outputs": [],
   "source": [
    "try:\n",
    "    dataset_path = publish_dataset(DATASET_PUBLICATION_PATH_LOCAL)\n",
    "except PublicationPathAlreadyExistsError:\n",
    "    dataset_path = os.path.join(DATASET_PUBLICATION_PATH_LOCAL,\n",
    "                                DATASET_VERSION)"
   ]
  },
  {
   "cell_type": "markdown",
   "id": "ec41ded6",
   "metadata": {},
   "source": [
    "## Retrieve versioned dataset"
   ]
  },
  {
   "cell_type": "code",
   "execution_count": null,
   "id": "954740ba",
   "metadata": {},
   "outputs": [],
   "source": [
    "dataset = VersionedDataset(dataset_path)"
   ]
  },
  {
   "cell_type": "markdown",
   "id": "6afbfba7",
   "metadata": {},
   "source": [
    "## Explore versioned dataset"
   ]
  },
  {
   "cell_type": "code",
   "execution_count": null,
   "id": "29ed0c33",
   "metadata": {},
   "outputs": [],
   "source": [
    "dataset.X_train.shape"
   ]
  },
  {
   "cell_type": "code",
   "execution_count": null,
   "id": "b0ff4fe3",
   "metadata": {},
   "outputs": [],
   "source": [
    "num_image_rows = 4\n",
    "num_image_cols = 4\n",
    "image_grid = GAN.concatenate_images(\n",
    "    dataset.X_train[:num_image_rows * num_image_cols],\n",
    "    num_image_rows,\n",
    "    num_image_cols)"
   ]
  },
  {
   "cell_type": "code",
   "execution_count": null,
   "id": "f8eb272f",
   "metadata": {},
   "outputs": [],
   "source": [
    "plt.figure(figsize=(8, 8))\n",
    "plt.imshow(image_grid)\n",
    "plt.show()"
   ]
  },
  {
   "cell_type": "code",
   "execution_count": null,
   "id": "df7df07f",
   "metadata": {},
   "outputs": [],
   "source": []
  }
 ],
 "metadata": {
  "kernelspec": {
   "display_name": "Python 3",
   "language": "python",
   "name": "python3"
  },
  "language_info": {
   "codemirror_mode": {
    "name": "ipython",
    "version": 3
   },
   "file_extension": ".py",
   "mimetype": "text/x-python",
   "name": "python",
   "nbconvert_exporter": "python",
   "pygments_lexer": "ipython3",
   "version": "3.6.13"
  }
 },
 "nbformat": 4,
 "nbformat_minor": 5
}
