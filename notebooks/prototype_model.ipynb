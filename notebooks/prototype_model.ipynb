{
 "cells": [
  {
   "cell_type": "markdown",
   "id": "c21cbfe4",
   "metadata": {},
   "source": [
    "# Model prototyping\n",
    "\n",
    "This notebook trains and publishes prototype models."
   ]
  },
  {
   "cell_type": "markdown",
   "id": "be986261",
   "metadata": {},
   "source": [
    "## Change working directory to project root"
   ]
  },
  {
   "cell_type": "code",
   "execution_count": null,
   "id": "af60bf56",
   "metadata": {},
   "outputs": [],
   "source": [
    "import os\n",
    "ROOT_DIRECTORIES = {'imagegen', 'tests'}\n",
    "if set(os.listdir('.')).intersection(ROOT_DIRECTORIES) != ROOT_DIRECTORIES:\n",
    "    os.chdir('..')"
   ]
  },
  {
   "cell_type": "markdown",
   "id": "5b3ba855",
   "metadata": {},
   "source": [
    "## Imports and constants"
   ]
  },
  {
   "cell_type": "code",
   "execution_count": null,
   "id": "56bb8e33",
   "metadata": {},
   "outputs": [],
   "source": [
    "import matplotlib.pyplot as plt\n",
    "from tensorflow.keras.models import Sequential\n",
    "from tensorflow.keras.layers import Conv2D, Dense, Flatten, Reshape, \\\n",
    "    Conv2DTranspose\n",
    "from mlops.errors import PublicationPathAlreadyExistsError\n",
    "from mlops.dataset.versioned_dataset import VersionedDataset\n",
    "from imagegen.publish_dataset import publish_dataset, \\\n",
    "    DATASET_PUBLICATION_PATH_LOCAL, DATASET_VERSION\n",
    "from imagegen.gan import GAN\n",
    "from imagegen.train_model import publish_gan, MODEL_PUBLICATION_PATH_LOCAL, \\\n",
    "    MODEL_PUBLICATION_PATH_S3, DEFAULT_GEN_INPUT_DIM\n",
    "from imagegen.model_generate import get_gan, NUM_SAMPLE_ROWS, NUM_SAMPLE_COLS"
   ]
  },
  {
   "cell_type": "code",
   "execution_count": null,
   "id": "9cc0edbd",
   "metadata": {},
   "outputs": [],
   "source": [
    "TAGS = ['prototype']"
   ]
  },
  {
   "cell_type": "markdown",
   "id": "b3f08310",
   "metadata": {},
   "source": [
    "## Publish versioned dataset"
   ]
  },
  {
   "cell_type": "code",
   "execution_count": null,
   "id": "89e23dd5",
   "metadata": {},
   "outputs": [],
   "source": [
    "try:\n",
    "    dataset_path = publish_dataset(DATASET_PUBLICATION_PATH_LOCAL)\n",
    "except PublicationPathAlreadyExistsError:\n",
    "    dataset_path = os.path.join(DATASET_PUBLICATION_PATH_LOCAL,\n",
    "                                DATASET_VERSION)"
   ]
  },
  {
   "cell_type": "markdown",
   "id": "6662311b",
   "metadata": {},
   "source": [
    "## Retrieve versioned dataset"
   ]
  },
  {
   "cell_type": "code",
   "execution_count": null,
   "id": "fef20cd6",
   "metadata": {},
   "outputs": [],
   "source": [
    "dataset = VersionedDataset(dataset_path)"
   ]
  },
  {
   "cell_type": "markdown",
   "id": "9b0b6eca",
   "metadata": {},
   "source": [
    "## Define prototype model"
   ]
  },
  {
   "cell_type": "code",
   "execution_count": null,
   "id": "00e23bda",
   "metadata": {},
   "outputs": [],
   "source": [
    "generator = Sequential()\n",
    "# Shape: (None, generator_input_dim).\n",
    "generator.add(Dense(15 * 15 * 16,\n",
    "                    input_shape=(DEFAULT_GEN_INPUT_DIM,)))\n",
    "# Shape: (None, 3600).\n",
    "generator.add(Reshape(target_shape=(15, 15, 16)))\n",
    "# Shape: (None, 15, 15, 16)\n",
    "generator.add(Conv2DTranspose(16,\n",
    "                              kernel_size=3,\n",
    "                              activation='relu',\n",
    "                              strides=2,\n",
    "                              padding='same'))\n",
    "# Shape: (None, 30, 30, 16).\n",
    "generator.add(Conv2DTranspose(8,\n",
    "                              kernel_size=3,\n",
    "                              activation='relu',\n",
    "                              strides=2,\n",
    "                              padding='same'))\n",
    "# Shape: (None, 60, 60, 8).\n",
    "generator.add(Conv2DTranspose(4,\n",
    "                              kernel_size=3,\n",
    "                              activation='relu',\n",
    "                              strides=2,\n",
    "                              padding='same'))\n",
    "# Shape: (None, 120, 120, 4).\n",
    "generator.add(Conv2DTranspose(3,\n",
    "                              kernel_size=3,\n",
    "                              activation='sigmoid',\n",
    "                              strides=1,\n",
    "                              padding='same'))\n",
    "# Shape: (None, 120, 120, 3).\n",
    "generator.compile()"
   ]
  },
  {
   "cell_type": "code",
   "execution_count": null,
   "id": "d0bc2b72",
   "metadata": {},
   "outputs": [],
   "source": [
    "discriminator = Sequential()\n",
    "# Shape: (None, 120, 120, 3).\n",
    "discriminator.add(\n",
    "    Conv2D(4, (3, 3), activation='relu', padding='same', strides=2,\n",
    "           input_shape=dataset.X_train.shape[1:]))\n",
    "# Shape: (None, 60, 60, 4).\n",
    "discriminator.add(\n",
    "    Conv2D(8, (3, 3), activation='relu', padding='same', strides=2))\n",
    "# Shape: (None, 30, 30, 8).\n",
    "discriminator.add(\n",
    "    Conv2D(16, (3, 3), activation='relu', padding='same', strides=2))\n",
    "# Shape: (None, 15, 15, 16).\n",
    "discriminator.add(\n",
    "    Conv2D(32, (3, 3), activation='relu', padding='same', strides=2))\n",
    "# Shape: (None, 8, 8, 32).\n",
    "discriminator.add(\n",
    "    Conv2D(64, (3, 3), activation='relu', padding='same', strides=2))\n",
    "# Shape: (None, 4, 4, 64).\n",
    "discriminator.add(Flatten())\n",
    "# Shape: (None, 1024).\n",
    "discriminator.add(Dense(1, activation='sigmoid'))\n",
    "# Shape: (None, 1).\n",
    "discriminator.compile()"
   ]
  },
  {
   "cell_type": "code",
   "execution_count": null,
   "id": "43340e28",
   "metadata": {},
   "outputs": [],
   "source": [
    "gan = GAN(generator, discriminator)"
   ]
  },
  {
   "cell_type": "markdown",
   "id": "ca7602cb",
   "metadata": {},
   "source": [
    "## Train and publish the versioned model"
   ]
  },
  {
   "cell_type": "code",
   "execution_count": null,
   "id": "37b150d7",
   "metadata": {},
   "outputs": [],
   "source": [
    "training_config = gan.train(dataset)\n",
    "publication_path = publish_gan(\n",
    "    gan,\n",
    "    dataset,\n",
    "    training_config,\n",
    "    MODEL_PUBLICATION_PATH_LOCAL,\n",
    "    tags=TAGS)"
   ]
  },
  {
   "cell_type": "markdown",
   "id": "b11dca71",
   "metadata": {},
   "source": [
    "## Retrieve GAN from versioned model"
   ]
  },
  {
   "cell_type": "code",
   "execution_count": null,
   "id": "e1ee4966",
   "metadata": {},
   "outputs": [],
   "source": [
    "versioned_gan = get_gan(publication_path)"
   ]
  },
  {
   "cell_type": "markdown",
   "id": "ef2af339",
   "metadata": {},
   "source": [
    "## Examine results"
   ]
  },
  {
   "cell_type": "code",
   "execution_count": null,
   "id": "e4393e1c",
   "metadata": {},
   "outputs": [],
   "source": [
    "images = gan.generate(NUM_SAMPLE_ROWS * NUM_SAMPLE_COLS)\n",
    "image_grid = GAN.concatenate_images(images, NUM_SAMPLE_ROWS, NUM_SAMPLE_COLS)"
   ]
  },
  {
   "cell_type": "code",
   "execution_count": null,
   "id": "37822290",
   "metadata": {},
   "outputs": [],
   "source": [
    "plt.imshow(image_grid)\n",
    "plt.show()"
   ]
  },
  {
   "cell_type": "code",
   "execution_count": null,
   "id": "3eb0b844",
   "metadata": {},
   "outputs": [],
   "source": []
  }
 ],
 "metadata": {
  "kernelspec": {
   "display_name": "Python 3 (ipykernel)",
   "language": "python",
   "name": "python3"
  },
  "language_info": {
   "codemirror_mode": {
    "name": "ipython",
    "version": 3
   },
   "file_extension": ".py",
   "mimetype": "text/x-python",
   "name": "python",
   "nbconvert_exporter": "python",
   "pygments_lexer": "ipython3",
   "version": "3.9.7"
  }
 },
 "nbformat": 4,
 "nbformat_minor": 5
}
